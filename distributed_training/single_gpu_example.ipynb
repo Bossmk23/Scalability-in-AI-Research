{
  "nbformat": 4,
  "nbformat_minor": 0,
  "metadata": {
    "colab": {
      "provenance": []
    },
    "kernelspec": {
      "name": "python3",
      "display_name": "Python 3"
    },
    "language_info": {
      "name": "python"
    }
  },
  "cells": [
    {
      "cell_type": "code",
      "execution_count": 3,
      "metadata": {
        "colab": {
          "base_uri": "https://localhost:8080/"
        },
        "id": "pM1oz2L1tYl1",
        "outputId": "afb9e21d-04d6-484e-9e76-169b132ec0be"
      },
      "outputs": [
        {
          "output_type": "stream",
          "name": "stdout",
          "text": [
            "Using device: cpu\n",
            "Train Epoch: 1 [0/60000] Loss: 2.303463\n",
            "Train Epoch: 1 [6400/60000] Loss: 0.208762\n",
            "Train Epoch: 1 [12800/60000] Loss: 0.268926\n",
            "Train Epoch: 1 [19200/60000] Loss: 0.084896\n",
            "Train Epoch: 1 [25600/60000] Loss: 0.089359\n",
            "Train Epoch: 1 [32000/60000] Loss: 0.040125\n",
            "Train Epoch: 1 [38400/60000] Loss: 0.039047\n",
            "Train Epoch: 1 [44800/60000] Loss: 0.157143\n",
            "Train Epoch: 1 [51200/60000] Loss: 0.043174\n",
            "Train Epoch: 1 [57600/60000] Loss: 0.090539\n",
            "Train Epoch: 2 [0/60000] Loss: 0.080479\n",
            "Train Epoch: 2 [6400/60000] Loss: 0.005220\n",
            "Train Epoch: 2 [12800/60000] Loss: 0.078889\n",
            "Train Epoch: 2 [19200/60000] Loss: 0.025349\n",
            "Train Epoch: 2 [25600/60000] Loss: 0.018347\n",
            "Train Epoch: 2 [32000/60000] Loss: 0.021410\n",
            "Train Epoch: 2 [38400/60000] Loss: 0.112373\n",
            "Train Epoch: 2 [44800/60000] Loss: 0.033357\n",
            "Train Epoch: 2 [51200/60000] Loss: 0.011556\n",
            "Train Epoch: 2 [57600/60000] Loss: 0.177160\n",
            "Training completed in: 414.96 seconds\n"
          ]
        }
      ],
      "source": [
        "# single_gpu_example.py\n",
        "import torch\n",
        "import torch.nn as nn\n",
        "import torch.optim as optim\n",
        "import torch.nn.functional as F\n",
        "from torchvision import datasets, transforms\n",
        "from torch.utils.data import DataLoader\n",
        "import time\n",
        "\n",
        "\n",
        "# ----- Define a simple CNN -----\n",
        "class SimpleCNN(nn.Module):\n",
        "    def __init__(self):\n",
        "        super(SimpleCNN, self).__init__()\n",
        "        self.conv1 = nn.Conv2d(1, 32, 3, 1)  # MNIST has 1 channel\n",
        "        self.conv2 = nn.Conv2d(32, 64, 3, 1)\n",
        "\n",
        "        # Calculate the size of the flattened layer dynamically\n",
        "        # Pass a dummy tensor through the conv layers to determine the size\n",
        "        dummy_input = torch.randn(1, 1, 28, 28) # Assuming MNIST input size\n",
        "        x = self.conv1(dummy_input)\n",
        "        x = self.conv2(x)\n",
        "        self._to_linear = x.view(x.size(0), -1).size(1)\n",
        "\n",
        "        self.fc1 = nn.Linear(self._to_linear, 128)\n",
        "        self.fc2 = nn.Linear(128, 10)\n",
        "\n",
        "    def forward(self, x):\n",
        "        x = F.relu(self.conv1(x))\n",
        "        x = F.relu(self.conv2(x))\n",
        "\n",
        "        x = torch.flatten(x, 1)\n",
        "        x = F.relu(self.fc1(x))\n",
        "        x = self.fc2(x)\n",
        "        return x\n",
        "\n",
        "\n",
        "# ----- Training loop -----\n",
        "def train(model, device, train_loader, optimizer, epoch):\n",
        "    model.train()\n",
        "    for batch_idx, (data, target) in enumerate(train_loader):\n",
        "        data, target = data.to(device), target.to(device)\n",
        "        optimizer.zero_grad()\n",
        "        output = model(data)\n",
        "        loss = F.cross_entropy(output, target)\n",
        "        loss.backward()\n",
        "        optimizer.step()\n",
        "\n",
        "        if batch_idx % 100 == 0:\n",
        "            print(f\"Train Epoch: {epoch} [{batch_idx * len(data)}/{len(train_loader.dataset)}] Loss: {loss.item():.6f}\")\n",
        "\n",
        "\n",
        "# ----- Main function -----\n",
        "def main():\n",
        "    # Device setup\n",
        "    device = torch.device(\"cuda\" if torch.cuda.is_available() else \"cpu\")\n",
        "    print(f\"Using device: {device}\")\n",
        "\n",
        "    # Data loading\n",
        "    transform = transforms.Compose([transforms.ToTensor()])\n",
        "    train_dataset = datasets.MNIST('./data', train=True, download=True, transform=transform)\n",
        "    train_loader = DataLoader(train_dataset, batch_size=64, shuffle=True)\n",
        "\n",
        "    # Model and optimizer\n",
        "    model = SimpleCNN().to(device)\n",
        "    optimizer = optim.Adam(model.parameters(), lr=0.001)\n",
        "\n",
        "    # Train for 2 epochs\n",
        "    start_time = time.time()\n",
        "    for epoch in range(1, 3):\n",
        "        train(model, device, train_loader, optimizer, epoch)\n",
        "    total_time = time.time() - start_time\n",
        "\n",
        "    print(f\"Training completed in: {total_time:.2f} seconds\")\n",
        "\n",
        "\n",
        "if __name__ == \"__main__\":\n",
        "    main()"
      ]
    }
  ]
}